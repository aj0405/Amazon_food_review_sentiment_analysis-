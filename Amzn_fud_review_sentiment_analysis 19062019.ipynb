{
 "cells": [
  {
   "cell_type": "markdown",
   "metadata": {},
   "source": [
    "Objective:the purpose of this analysis is to make up a prediction model where \n",
    "we will be able to predict whether a recommendation is positive or negative."
   ]
  },
  {
   "cell_type": "code",
   "execution_count": 1,
   "metadata": {},
   "outputs": [],
   "source": [
    "%config IPCompleter.greedy=True"
   ]
  },
  {
   "cell_type": "code",
   "execution_count": 2,
   "metadata": {},
   "outputs": [],
   "source": [
    "import os\n",
    "import pandas as pd\n",
    "import sqlite3#as we have data in sqlite version\n",
    "import matplotlib.pyplot as plt\n",
    "import seaborn as sn\n",
    "%matplotlib inline"
   ]
  },
  {
   "cell_type": "code",
   "execution_count": 3,
   "metadata": {},
   "outputs": [
    {
     "name": "stdout",
     "output_type": "stream",
     "text": [
      "C:\\Users\\Aman\\Anaconda3\\python.exe\n"
     ]
    }
   ],
   "source": [
    "import sys\n",
    "print(sys.executable)"
   ]
  },
  {
   "cell_type": "markdown",
   "metadata": {},
   "source": [
    "Now after importing basic library it's time to fetch the data"
   ]
  },
  {
   "cell_type": "code",
   "execution_count": 4,
   "metadata": {},
   "outputs": [],
   "source": [
    "from IPython.core.interactiveshell import InteractiveShell\n",
    "InteractiveShell.ast_node_interactivity = \"all\""
   ]
  },
  {
   "cell_type": "code",
   "execution_count": 5,
   "metadata": {},
   "outputs": [],
   "source": [
    "#connecting to the database through sqlite\n",
    "con=sqlite3.connect('D:/DataScience_Project/Assignments_AFR_2018/database.sqlite')"
   ]
  },
  {
   "cell_type": "code",
   "execution_count": 6,
   "metadata": {},
   "outputs": [],
   "source": [
    "#fetch data through pandas\n",
    "amznrvw=pd.read_sql_query('''\n",
    "SELECT*\n",
    "FROM Reviews\n",
    "''',con)"
   ]
  },
  {
   "cell_type": "code",
   "execution_count": 7,
   "metadata": {},
   "outputs": [
    {
     "data": {
      "text/html": [
       "<div>\n",
       "<style scoped>\n",
       "    .dataframe tbody tr th:only-of-type {\n",
       "        vertical-align: middle;\n",
       "    }\n",
       "\n",
       "    .dataframe tbody tr th {\n",
       "        vertical-align: top;\n",
       "    }\n",
       "\n",
       "    .dataframe thead th {\n",
       "        text-align: right;\n",
       "    }\n",
       "</style>\n",
       "<table border=\"1\" class=\"dataframe\">\n",
       "  <thead>\n",
       "    <tr style=\"text-align: right;\">\n",
       "      <th></th>\n",
       "      <th>0</th>\n",
       "      <th>1</th>\n",
       "      <th>2</th>\n",
       "      <th>3</th>\n",
       "      <th>4</th>\n",
       "      <th>5</th>\n",
       "      <th>6</th>\n",
       "      <th>7</th>\n",
       "      <th>8</th>\n",
       "      <th>9</th>\n",
       "    </tr>\n",
       "  </thead>\n",
       "  <tbody>\n",
       "    <tr>\n",
       "      <th>Id</th>\n",
       "      <td>1</td>\n",
       "      <td>2</td>\n",
       "      <td>3</td>\n",
       "      <td>4</td>\n",
       "      <td>5</td>\n",
       "      <td>6</td>\n",
       "      <td>7</td>\n",
       "      <td>8</td>\n",
       "      <td>9</td>\n",
       "      <td>10</td>\n",
       "    </tr>\n",
       "    <tr>\n",
       "      <th>ProductId</th>\n",
       "      <td>B001E4KFG0</td>\n",
       "      <td>B00813GRG4</td>\n",
       "      <td>B000LQOCH0</td>\n",
       "      <td>B000UA0QIQ</td>\n",
       "      <td>B006K2ZZ7K</td>\n",
       "      <td>B006K2ZZ7K</td>\n",
       "      <td>B006K2ZZ7K</td>\n",
       "      <td>B006K2ZZ7K</td>\n",
       "      <td>B000E7L2R4</td>\n",
       "      <td>B00171APVA</td>\n",
       "    </tr>\n",
       "    <tr>\n",
       "      <th>UserId</th>\n",
       "      <td>A3SGXH7AUHU8GW</td>\n",
       "      <td>A1D87F6ZCVE5NK</td>\n",
       "      <td>ABXLMWJIXXAIN</td>\n",
       "      <td>A395BORC6FGVXV</td>\n",
       "      <td>A1UQRSCLF8GW1T</td>\n",
       "      <td>ADT0SRK1MGOEU</td>\n",
       "      <td>A1SP2KVKFXXRU1</td>\n",
       "      <td>A3JRGQVEQN31IQ</td>\n",
       "      <td>A1MZYO9TZK0BBI</td>\n",
       "      <td>A21BT40VZCCYT4</td>\n",
       "    </tr>\n",
       "    <tr>\n",
       "      <th>ProfileName</th>\n",
       "      <td>delmartian</td>\n",
       "      <td>dll pa</td>\n",
       "      <td>Natalia Corres \"Natalia Corres\"</td>\n",
       "      <td>Karl</td>\n",
       "      <td>Michael D. Bigham \"M. Wassir\"</td>\n",
       "      <td>Twoapennything</td>\n",
       "      <td>David C. Sullivan</td>\n",
       "      <td>Pamela G. Williams</td>\n",
       "      <td>R. James</td>\n",
       "      <td>Carol A. Reed</td>\n",
       "    </tr>\n",
       "    <tr>\n",
       "      <th>HelpfulnessNumerator</th>\n",
       "      <td>1</td>\n",
       "      <td>0</td>\n",
       "      <td>1</td>\n",
       "      <td>3</td>\n",
       "      <td>0</td>\n",
       "      <td>0</td>\n",
       "      <td>0</td>\n",
       "      <td>0</td>\n",
       "      <td>1</td>\n",
       "      <td>0</td>\n",
       "    </tr>\n",
       "    <tr>\n",
       "      <th>HelpfulnessDenominator</th>\n",
       "      <td>1</td>\n",
       "      <td>0</td>\n",
       "      <td>1</td>\n",
       "      <td>3</td>\n",
       "      <td>0</td>\n",
       "      <td>0</td>\n",
       "      <td>0</td>\n",
       "      <td>0</td>\n",
       "      <td>1</td>\n",
       "      <td>0</td>\n",
       "    </tr>\n",
       "    <tr>\n",
       "      <th>Score</th>\n",
       "      <td>5</td>\n",
       "      <td>1</td>\n",
       "      <td>4</td>\n",
       "      <td>2</td>\n",
       "      <td>5</td>\n",
       "      <td>4</td>\n",
       "      <td>5</td>\n",
       "      <td>5</td>\n",
       "      <td>5</td>\n",
       "      <td>5</td>\n",
       "    </tr>\n",
       "    <tr>\n",
       "      <th>Time</th>\n",
       "      <td>1303862400</td>\n",
       "      <td>1346976000</td>\n",
       "      <td>1219017600</td>\n",
       "      <td>1307923200</td>\n",
       "      <td>1350777600</td>\n",
       "      <td>1342051200</td>\n",
       "      <td>1340150400</td>\n",
       "      <td>1336003200</td>\n",
       "      <td>1322006400</td>\n",
       "      <td>1351209600</td>\n",
       "    </tr>\n",
       "    <tr>\n",
       "      <th>Summary</th>\n",
       "      <td>Good Quality Dog Food</td>\n",
       "      <td>Not as Advertised</td>\n",
       "      <td>\"Delight\" says it all</td>\n",
       "      <td>Cough Medicine</td>\n",
       "      <td>Great taffy</td>\n",
       "      <td>Nice Taffy</td>\n",
       "      <td>Great!  Just as good as the expensive brands!</td>\n",
       "      <td>Wonderful, tasty taffy</td>\n",
       "      <td>Yay Barley</td>\n",
       "      <td>Healthy Dog Food</td>\n",
       "    </tr>\n",
       "    <tr>\n",
       "      <th>Text</th>\n",
       "      <td>I have bought several of the Vitality canned d...</td>\n",
       "      <td>Product arrived labeled as Jumbo Salted Peanut...</td>\n",
       "      <td>This is a confection that has been around a fe...</td>\n",
       "      <td>If you are looking for the secret ingredient i...</td>\n",
       "      <td>Great taffy at a great price.  There was a wid...</td>\n",
       "      <td>I got a wild hair for taffy and ordered this f...</td>\n",
       "      <td>This saltwater taffy had great flavors and was...</td>\n",
       "      <td>This taffy is so good.  It is very soft and ch...</td>\n",
       "      <td>Right now I'm mostly just sprouting this so my...</td>\n",
       "      <td>This is a very healthy dog food. Good for thei...</td>\n",
       "    </tr>\n",
       "  </tbody>\n",
       "</table>\n",
       "</div>"
      ],
      "text/plain": [
       "                                                                        0  \\\n",
       "Id                                                                      1   \n",
       "ProductId                                                      B001E4KFG0   \n",
       "UserId                                                     A3SGXH7AUHU8GW   \n",
       "ProfileName                                                    delmartian   \n",
       "HelpfulnessNumerator                                                    1   \n",
       "HelpfulnessDenominator                                                  1   \n",
       "Score                                                                   5   \n",
       "Time                                                           1303862400   \n",
       "Summary                                             Good Quality Dog Food   \n",
       "Text                    I have bought several of the Vitality canned d...   \n",
       "\n",
       "                                                                        1  \\\n",
       "Id                                                                      2   \n",
       "ProductId                                                      B00813GRG4   \n",
       "UserId                                                     A1D87F6ZCVE5NK   \n",
       "ProfileName                                                        dll pa   \n",
       "HelpfulnessNumerator                                                    0   \n",
       "HelpfulnessDenominator                                                  0   \n",
       "Score                                                                   1   \n",
       "Time                                                           1346976000   \n",
       "Summary                                                 Not as Advertised   \n",
       "Text                    Product arrived labeled as Jumbo Salted Peanut...   \n",
       "\n",
       "                                                                        2  \\\n",
       "Id                                                                      3   \n",
       "ProductId                                                      B000LQOCH0   \n",
       "UserId                                                      ABXLMWJIXXAIN   \n",
       "ProfileName                               Natalia Corres \"Natalia Corres\"   \n",
       "HelpfulnessNumerator                                                    1   \n",
       "HelpfulnessDenominator                                                  1   \n",
       "Score                                                                   4   \n",
       "Time                                                           1219017600   \n",
       "Summary                                             \"Delight\" says it all   \n",
       "Text                    This is a confection that has been around a fe...   \n",
       "\n",
       "                                                                        3  \\\n",
       "Id                                                                      4   \n",
       "ProductId                                                      B000UA0QIQ   \n",
       "UserId                                                     A395BORC6FGVXV   \n",
       "ProfileName                                                          Karl   \n",
       "HelpfulnessNumerator                                                    3   \n",
       "HelpfulnessDenominator                                                  3   \n",
       "Score                                                                   2   \n",
       "Time                                                           1307923200   \n",
       "Summary                                                    Cough Medicine   \n",
       "Text                    If you are looking for the secret ingredient i...   \n",
       "\n",
       "                                                                        4  \\\n",
       "Id                                                                      5   \n",
       "ProductId                                                      B006K2ZZ7K   \n",
       "UserId                                                     A1UQRSCLF8GW1T   \n",
       "ProfileName                                 Michael D. Bigham \"M. Wassir\"   \n",
       "HelpfulnessNumerator                                                    0   \n",
       "HelpfulnessDenominator                                                  0   \n",
       "Score                                                                   5   \n",
       "Time                                                           1350777600   \n",
       "Summary                                                       Great taffy   \n",
       "Text                    Great taffy at a great price.  There was a wid...   \n",
       "\n",
       "                                                                        5  \\\n",
       "Id                                                                      6   \n",
       "ProductId                                                      B006K2ZZ7K   \n",
       "UserId                                                      ADT0SRK1MGOEU   \n",
       "ProfileName                                                Twoapennything   \n",
       "HelpfulnessNumerator                                                    0   \n",
       "HelpfulnessDenominator                                                  0   \n",
       "Score                                                                   4   \n",
       "Time                                                           1342051200   \n",
       "Summary                                                        Nice Taffy   \n",
       "Text                    I got a wild hair for taffy and ordered this f...   \n",
       "\n",
       "                                                                        6  \\\n",
       "Id                                                                      7   \n",
       "ProductId                                                      B006K2ZZ7K   \n",
       "UserId                                                     A1SP2KVKFXXRU1   \n",
       "ProfileName                                             David C. Sullivan   \n",
       "HelpfulnessNumerator                                                    0   \n",
       "HelpfulnessDenominator                                                  0   \n",
       "Score                                                                   5   \n",
       "Time                                                           1340150400   \n",
       "Summary                     Great!  Just as good as the expensive brands!   \n",
       "Text                    This saltwater taffy had great flavors and was...   \n",
       "\n",
       "                                                                        7  \\\n",
       "Id                                                                      8   \n",
       "ProductId                                                      B006K2ZZ7K   \n",
       "UserId                                                     A3JRGQVEQN31IQ   \n",
       "ProfileName                                            Pamela G. Williams   \n",
       "HelpfulnessNumerator                                                    0   \n",
       "HelpfulnessDenominator                                                  0   \n",
       "Score                                                                   5   \n",
       "Time                                                           1336003200   \n",
       "Summary                                            Wonderful, tasty taffy   \n",
       "Text                    This taffy is so good.  It is very soft and ch...   \n",
       "\n",
       "                                                                        8  \\\n",
       "Id                                                                      9   \n",
       "ProductId                                                      B000E7L2R4   \n",
       "UserId                                                     A1MZYO9TZK0BBI   \n",
       "ProfileName                                                      R. James   \n",
       "HelpfulnessNumerator                                                    1   \n",
       "HelpfulnessDenominator                                                  1   \n",
       "Score                                                                   5   \n",
       "Time                                                           1322006400   \n",
       "Summary                                                        Yay Barley   \n",
       "Text                    Right now I'm mostly just sprouting this so my...   \n",
       "\n",
       "                                                                        9  \n",
       "Id                                                                     10  \n",
       "ProductId                                                      B00171APVA  \n",
       "UserId                                                     A21BT40VZCCYT4  \n",
       "ProfileName                                                 Carol A. Reed  \n",
       "HelpfulnessNumerator                                                    0  \n",
       "HelpfulnessDenominator                                                  0  \n",
       "Score                                                                   5  \n",
       "Time                                                           1351209600  \n",
       "Summary                                                  Healthy Dog Food  \n",
       "Text                    This is a very healthy dog food. Good for thei...  "
      ]
     },
     "execution_count": 7,
     "metadata": {},
     "output_type": "execute_result"
    }
   ],
   "source": [
    "amznrvw.head(10).T"
   ]
  },
  {
   "cell_type": "code",
   "execution_count": 8,
   "metadata": {},
   "outputs": [
    {
     "data": {
      "text/html": [
       "<div>\n",
       "<style scoped>\n",
       "    .dataframe tbody tr th:only-of-type {\n",
       "        vertical-align: middle;\n",
       "    }\n",
       "\n",
       "    .dataframe tbody tr th {\n",
       "        vertical-align: top;\n",
       "    }\n",
       "\n",
       "    .dataframe thead th {\n",
       "        text-align: right;\n",
       "    }\n",
       "</style>\n",
       "<table border=\"1\" class=\"dataframe\">\n",
       "  <thead>\n",
       "    <tr style=\"text-align: right;\">\n",
       "      <th></th>\n",
       "      <th>Id</th>\n",
       "      <th>HelpfulnessNumerator</th>\n",
       "      <th>HelpfulnessDenominator</th>\n",
       "      <th>Score</th>\n",
       "      <th>Time</th>\n",
       "    </tr>\n",
       "  </thead>\n",
       "  <tbody>\n",
       "    <tr>\n",
       "      <th>count</th>\n",
       "      <td>568454.000000</td>\n",
       "      <td>568454.000000</td>\n",
       "      <td>568454.00000</td>\n",
       "      <td>568454.000000</td>\n",
       "      <td>5.684540e+05</td>\n",
       "    </tr>\n",
       "    <tr>\n",
       "      <th>mean</th>\n",
       "      <td>284227.500000</td>\n",
       "      <td>1.743817</td>\n",
       "      <td>2.22881</td>\n",
       "      <td>4.183199</td>\n",
       "      <td>1.296257e+09</td>\n",
       "    </tr>\n",
       "    <tr>\n",
       "      <th>std</th>\n",
       "      <td>164098.679298</td>\n",
       "      <td>7.636513</td>\n",
       "      <td>8.28974</td>\n",
       "      <td>1.310436</td>\n",
       "      <td>4.804331e+07</td>\n",
       "    </tr>\n",
       "    <tr>\n",
       "      <th>min</th>\n",
       "      <td>1.000000</td>\n",
       "      <td>0.000000</td>\n",
       "      <td>0.00000</td>\n",
       "      <td>1.000000</td>\n",
       "      <td>9.393408e+08</td>\n",
       "    </tr>\n",
       "    <tr>\n",
       "      <th>25%</th>\n",
       "      <td>142114.250000</td>\n",
       "      <td>0.000000</td>\n",
       "      <td>0.00000</td>\n",
       "      <td>4.000000</td>\n",
       "      <td>1.271290e+09</td>\n",
       "    </tr>\n",
       "    <tr>\n",
       "      <th>50%</th>\n",
       "      <td>284227.500000</td>\n",
       "      <td>0.000000</td>\n",
       "      <td>1.00000</td>\n",
       "      <td>5.000000</td>\n",
       "      <td>1.311120e+09</td>\n",
       "    </tr>\n",
       "    <tr>\n",
       "      <th>75%</th>\n",
       "      <td>426340.750000</td>\n",
       "      <td>2.000000</td>\n",
       "      <td>2.00000</td>\n",
       "      <td>5.000000</td>\n",
       "      <td>1.332720e+09</td>\n",
       "    </tr>\n",
       "    <tr>\n",
       "      <th>max</th>\n",
       "      <td>568454.000000</td>\n",
       "      <td>866.000000</td>\n",
       "      <td>923.00000</td>\n",
       "      <td>5.000000</td>\n",
       "      <td>1.351210e+09</td>\n",
       "    </tr>\n",
       "  </tbody>\n",
       "</table>\n",
       "</div>"
      ],
      "text/plain": [
       "                  Id  HelpfulnessNumerator  HelpfulnessDenominator  \\\n",
       "count  568454.000000         568454.000000            568454.00000   \n",
       "mean   284227.500000              1.743817                 2.22881   \n",
       "std    164098.679298              7.636513                 8.28974   \n",
       "min         1.000000              0.000000                 0.00000   \n",
       "25%    142114.250000              0.000000                 0.00000   \n",
       "50%    284227.500000              0.000000                 1.00000   \n",
       "75%    426340.750000              2.000000                 2.00000   \n",
       "max    568454.000000            866.000000               923.00000   \n",
       "\n",
       "               Score          Time  \n",
       "count  568454.000000  5.684540e+05  \n",
       "mean        4.183199  1.296257e+09  \n",
       "std         1.310436  4.804331e+07  \n",
       "min         1.000000  9.393408e+08  \n",
       "25%         4.000000  1.271290e+09  \n",
       "50%         5.000000  1.311120e+09  \n",
       "75%         5.000000  1.332720e+09  \n",
       "max         5.000000  1.351210e+09  "
      ]
     },
     "execution_count": 8,
     "metadata": {},
     "output_type": "execute_result"
    }
   ],
   "source": [
    "amznrvw.describe()"
   ]
  },
  {
   "cell_type": "code",
   "execution_count": 9,
   "metadata": {},
   "outputs": [
    {
     "data": {
      "text/plain": [
       "Id                        0\n",
       "ProductId                 0\n",
       "UserId                    0\n",
       "ProfileName               0\n",
       "HelpfulnessNumerator      0\n",
       "HelpfulnessDenominator    0\n",
       "Score                     0\n",
       "Time                      0\n",
       "Summary                   0\n",
       "Text                      0\n",
       "dtype: int64"
      ]
     },
     "execution_count": 9,
     "metadata": {},
     "output_type": "execute_result"
    }
   ],
   "source": [
    "#checking null values\n",
    "amznrvw.isnull().sum()"
   ]
  },
  {
   "cell_type": "markdown",
   "metadata": {},
   "source": [
    "so it seems no null value present in dataset lets proceed further"
   ]
  },
  {
   "cell_type": "code",
   "execution_count": 10,
   "metadata": {},
   "outputs": [
    {
     "data": {
      "image/png": "[encoded data removed]",
      "text/plain": [
       "<Figure size 432x288 with 1 Axes>"
      ]
     },
     "metadata": {
      "needs_background": "light"
     },
     "output_type": "display_data"
    }
   ],
   "source": [
    "#lets plot the graph to understand the score value count\n",
    "ax=amznrvw.Score.value_counts().plot(kind='bar')\n",
    "fig = ax.get_figure()\n",
    "fig.savefig(\"score.png\")"
   ]
  },
  {
   "cell_type": "markdown",
   "metadata": {},
   "source": [
    "it's look like we have more reviews with 5 star rating"
   ]
  },
  {
   "cell_type": "code",
   "execution_count": 11,
   "metadata": {},
   "outputs": [
    {
     "data": {
      "text/plain": [
       "(568454, 10)"
      ]
     },
     "execution_count": 11,
     "metadata": {},
     "output_type": "execute_result"
    }
   ],
   "source": [
    "amznrvw.shape"
   ]
  },
  {
   "cell_type": "markdown",
   "metadata": {},
   "source": [
    "To determine the approximate polarity (+/-) of the review a rating of 4 or 5 can be cosnidered as a positive review. a rating of 1 or 2 can be considered as negative one. A review of rating 3 is considered nuetral and such reviews are ignored from our analysis"
   ]
  },
  {
   "cell_type": "code",
   "execution_count": 12,
   "metadata": {},
   "outputs": [
    {
     "data": {
      "text/plain": [
       "5    363122\n",
       "4     80655\n",
       "1     52268\n",
       "3     42640\n",
       "2     29769\n",
       "Name: Score, dtype: int64"
      ]
     },
     "execution_count": 12,
     "metadata": {},
     "output_type": "execute_result"
    }
   ],
   "source": [
    "amznrvw['Score'].value_counts()"
   ]
  },
  {
   "cell_type": "code",
   "execution_count": 13,
   "metadata": {},
   "outputs": [],
   "source": [
    "amznrvw1=amznrvw[amznrvw['Score']!=3]#removing score =3 from data"
   ]
  },
  {
   "cell_type": "code",
   "execution_count": 14,
   "metadata": {},
   "outputs": [],
   "source": [
    "#rename for better understanding of helpfulness\n",
    "amznrvw1=amznrvw1.rename(columns={'HelpfulnessNumerator':'Helpfulvote','HelpfulnessDenominator':'Totalvote'})"
   ]
  },
  {
   "cell_type": "code",
   "execution_count": 15,
   "metadata": {},
   "outputs": [
    {
     "data": {
      "text/html": [
       "<div>\n",
       "<style scoped>\n",
       "    .dataframe tbody tr th:only-of-type {\n",
       "        vertical-align: middle;\n",
       "    }\n",
       "\n",
       "    .dataframe tbody tr th {\n",
       "        vertical-align: top;\n",
       "    }\n",
       "\n",
       "    .dataframe thead th {\n",
       "        text-align: right;\n",
       "    }\n",
       "</style>\n",
       "<table border=\"1\" class=\"dataframe\">\n",
       "  <thead>\n",
       "    <tr style=\"text-align: right;\">\n",
       "      <th></th>\n",
       "      <th>0</th>\n",
       "      <th>1</th>\n",
       "    </tr>\n",
       "  </thead>\n",
       "  <tbody>\n",
       "    <tr>\n",
       "      <th>Id</th>\n",
       "      <td>1</td>\n",
       "      <td>2</td>\n",
       "    </tr>\n",
       "    <tr>\n",
       "      <th>ProductId</th>\n",
       "      <td>B001E4KFG0</td>\n",
       "      <td>B00813GRG4</td>\n",
       "    </tr>\n",
       "    <tr>\n",
       "      <th>UserId</th>\n",
       "      <td>A3SGXH7AUHU8GW</td>\n",
       "      <td>A1D87F6ZCVE5NK</td>\n",
       "    </tr>\n",
       "    <tr>\n",
       "      <th>ProfileName</th>\n",
       "      <td>delmartian</td>\n",
       "      <td>dll pa</td>\n",
       "    </tr>\n",
       "    <tr>\n",
       "      <th>Helpfulvote</th>\n",
       "      <td>1</td>\n",
       "      <td>0</td>\n",
       "    </tr>\n",
       "    <tr>\n",
       "      <th>Totalvote</th>\n",
       "      <td>1</td>\n",
       "      <td>0</td>\n",
       "    </tr>\n",
       "    <tr>\n",
       "      <th>Score</th>\n",
       "      <td>5</td>\n",
       "      <td>1</td>\n",
       "    </tr>\n",
       "    <tr>\n",
       "      <th>Time</th>\n",
       "      <td>1303862400</td>\n",
       "      <td>1346976000</td>\n",
       "    </tr>\n",
       "    <tr>\n",
       "      <th>Summary</th>\n",
       "      <td>Good Quality Dog Food</td>\n",
       "      <td>Not as Advertised</td>\n",
       "    </tr>\n",
       "    <tr>\n",
       "      <th>Text</th>\n",
       "      <td>I have bought several of the Vitality canned d...</td>\n",
       "      <td>Product arrived labeled as Jumbo Salted Peanut...</td>\n",
       "    </tr>\n",
       "  </tbody>\n",
       "</table>\n",
       "</div>"
      ],
      "text/plain": [
       "                                                             0  \\\n",
       "Id                                                           1   \n",
       "ProductId                                           B001E4KFG0   \n",
       "UserId                                          A3SGXH7AUHU8GW   \n",
       "ProfileName                                         delmartian   \n",
       "Helpfulvote                                                  1   \n",
       "Totalvote                                                    1   \n",
       "Score                                                        5   \n",
       "Time                                                1303862400   \n",
       "Summary                                  Good Quality Dog Food   \n",
       "Text         I have bought several of the Vitality canned d...   \n",
       "\n",
       "                                                             1  \n",
       "Id                                                           2  \n",
       "ProductId                                           B00813GRG4  \n",
       "UserId                                          A1D87F6ZCVE5NK  \n",
       "ProfileName                                             dll pa  \n",
       "Helpfulvote                                                  0  \n",
       "Totalvote                                                    0  \n",
       "Score                                                        1  \n",
       "Time                                                1346976000  \n",
       "Summary                                      Not as Advertised  \n",
       "Text         Product arrived labeled as Jumbo Salted Peanut...  "
      ]
     },
     "execution_count": 15,
     "metadata": {},
     "output_type": "execute_result"
    }
   ],
   "source": [
    "amznrvw1.head(2).T"
   ]
  },
  {
   "cell_type": "code",
   "execution_count": 16,
   "metadata": {},
   "outputs": [],
   "source": [
    "amznrvw1=amznrvw1[amznrvw1.Helpfulvote<=amznrvw1.Totalvote]"
   ]
  },
  {
   "cell_type": "code",
   "execution_count": 17,
   "metadata": {},
   "outputs": [],
   "source": [
    "#add two column Sentiments and Helpfulness to describe the data better \n",
    "amznrvw1[\"Sentiment\"] = amznrvw1[\"Score\"].apply(lambda score: \"positive\" if score > 3 else \"negative\")\n",
    "amznrvw1[\"Usefulness\"] = (amznrvw1['Helpfulvote']/amznrvw1['Totalvote']).apply(lambda n: \"useful\" if n > 0.8 else \"useless\")\n"
   ]
  },
  {
   "cell_type": "code",
   "execution_count": 18,
   "metadata": {},
   "outputs": [
    {
     "data": {
      "text/plain": [
       "(364171, 12)"
      ]
     },
     "execution_count": 18,
     "metadata": {},
     "output_type": "execute_result"
    }
   ],
   "source": [
    "#Deduplication of entries\n",
    "flamznrvw=amznrvw1.drop_duplicates(subset={\"UserId\",\"ProfileName\",\"Time\",\"Text\"}, keep='first', inplace=False)\n",
    "flamznrvw.shape"
   ]
  },
  {
   "cell_type": "code",
   "execution_count": 19,
   "metadata": {},
   "outputs": [
    {
     "data": {
      "text/html": [
       "<div>\n",
       "<style scoped>\n",
       "    .dataframe tbody tr th:only-of-type {\n",
       "        vertical-align: middle;\n",
       "    }\n",
       "\n",
       "    .dataframe tbody tr th {\n",
       "        vertical-align: top;\n",
       "    }\n",
       "\n",
       "    .dataframe thead th {\n",
       "        text-align: right;\n",
       "    }\n",
       "</style>\n",
       "<table border=\"1\" class=\"dataframe\">\n",
       "  <thead>\n",
       "    <tr style=\"text-align: right;\">\n",
       "      <th></th>\n",
       "      <th>0</th>\n",
       "      <th>1</th>\n",
       "    </tr>\n",
       "  </thead>\n",
       "  <tbody>\n",
       "    <tr>\n",
       "      <th>Id</th>\n",
       "      <td>1</td>\n",
       "      <td>2</td>\n",
       "    </tr>\n",
       "    <tr>\n",
       "      <th>ProductId</th>\n",
       "      <td>B001E4KFG0</td>\n",
       "      <td>B00813GRG4</td>\n",
       "    </tr>\n",
       "    <tr>\n",
       "      <th>UserId</th>\n",
       "      <td>A3SGXH7AUHU8GW</td>\n",
       "      <td>A1D87F6ZCVE5NK</td>\n",
       "    </tr>\n",
       "    <tr>\n",
       "      <th>ProfileName</th>\n",
       "      <td>delmartian</td>\n",
       "      <td>dll pa</td>\n",
       "    </tr>\n",
       "    <tr>\n",
       "      <th>Helpfulvote</th>\n",
       "      <td>1</td>\n",
       "      <td>0</td>\n",
       "    </tr>\n",
       "    <tr>\n",
       "      <th>Totalvote</th>\n",
       "      <td>1</td>\n",
       "      <td>0</td>\n",
       "    </tr>\n",
       "    <tr>\n",
       "      <th>Score</th>\n",
       "      <td>5</td>\n",
       "      <td>1</td>\n",
       "    </tr>\n",
       "    <tr>\n",
       "      <th>Time</th>\n",
       "      <td>1303862400</td>\n",
       "      <td>1346976000</td>\n",
       "    </tr>\n",
       "    <tr>\n",
       "      <th>Summary</th>\n",
       "      <td>Good Quality Dog Food</td>\n",
       "      <td>Not as Advertised</td>\n",
       "    </tr>\n",
       "    <tr>\n",
       "      <th>Text</th>\n",
       "      <td>I have bought several of the Vitality canned d...</td>\n",
       "      <td>Product arrived labeled as Jumbo Salted Peanut...</td>\n",
       "    </tr>\n",
       "    <tr>\n",
       "      <th>Sentiment</th>\n",
       "      <td>positive</td>\n",
       "      <td>negative</td>\n",
       "    </tr>\n",
       "    <tr>\n",
       "      <th>Usefulness</th>\n",
       "      <td>useful</td>\n",
       "      <td>useless</td>\n",
       "    </tr>\n",
       "  </tbody>\n",
       "</table>\n",
       "</div>"
      ],
      "text/plain": [
       "                                                             0  \\\n",
       "Id                                                           1   \n",
       "ProductId                                           B001E4KFG0   \n",
       "UserId                                          A3SGXH7AUHU8GW   \n",
       "ProfileName                                         delmartian   \n",
       "Helpfulvote                                                  1   \n",
       "Totalvote                                                    1   \n",
       "Score                                                        5   \n",
       "Time                                                1303862400   \n",
       "Summary                                  Good Quality Dog Food   \n",
       "Text         I have bought several of the Vitality canned d...   \n",
       "Sentiment                                             positive   \n",
       "Usefulness                                              useful   \n",
       "\n",
       "                                                             1  \n",
       "Id                                                           2  \n",
       "ProductId                                           B00813GRG4  \n",
       "UserId                                          A1D87F6ZCVE5NK  \n",
       "ProfileName                                             dll pa  \n",
       "Helpfulvote                                                  0  \n",
       "Totalvote                                                    0  \n",
       "Score                                                        1  \n",
       "Time                                                1346976000  \n",
       "Summary                                      Not as Advertised  \n",
       "Text         Product arrived labeled as Jumbo Salted Peanut...  \n",
       "Sentiment                                             negative  \n",
       "Usefulness                                             useless  "
      ]
     },
     "execution_count": 19,
     "metadata": {},
     "output_type": "execute_result"
    }
   ],
   "source": [
    "flamznrvw.head(2).T"
   ]
  },
  {
   "cell_type": "code",
   "execution_count": 20,
   "metadata": {},
   "outputs": [
    {
     "data": {
      "text/plain": [
       "positive    307061\n",
       "negative     57110\n",
       "Name: Sentiment, dtype: int64"
      ]
     },
     "execution_count": 20,
     "metadata": {},
     "output_type": "execute_result"
    }
   ],
   "source": [
    "flamznrvw['Sentiment'].value_counts()"
   ]
  },
  {
   "cell_type": "code",
   "execution_count": 21,
   "metadata": {},
   "outputs": [],
   "source": [
    "#fetching importnat column as per analysis point of view\n",
    "rvwdata=flamznrvw[['Score','Summary','Helpfulvote','Totalvote','Sentiment','Usefulness']]"
   ]
  },
  {
   "cell_type": "code",
   "execution_count": 22,
   "metadata": {},
   "outputs": [
    {
     "data": {
      "text/html": [
       "<div>\n",
       "<style scoped>\n",
       "    .dataframe tbody tr th:only-of-type {\n",
       "        vertical-align: middle;\n",
       "    }\n",
       "\n",
       "    .dataframe tbody tr th {\n",
       "        vertical-align: top;\n",
       "    }\n",
       "\n",
       "    .dataframe thead th {\n",
       "        text-align: right;\n",
       "    }\n",
       "</style>\n",
       "<table border=\"1\" class=\"dataframe\">\n",
       "  <thead>\n",
       "    <tr style=\"text-align: right;\">\n",
       "      <th></th>\n",
       "      <th>Score</th>\n",
       "      <th>Summary</th>\n",
       "      <th>Helpfulvote</th>\n",
       "      <th>Totalvote</th>\n",
       "      <th>Sentiment</th>\n",
       "      <th>Usefulness</th>\n",
       "    </tr>\n",
       "  </thead>\n",
       "  <tbody>\n",
       "    <tr>\n",
       "      <th>0</th>\n",
       "      <td>5</td>\n",
       "      <td>Good Quality Dog Food</td>\n",
       "      <td>1</td>\n",
       "      <td>1</td>\n",
       "      <td>positive</td>\n",
       "      <td>useful</td>\n",
       "    </tr>\n",
       "    <tr>\n",
       "      <th>1</th>\n",
       "      <td>1</td>\n",
       "      <td>Not as Advertised</td>\n",
       "      <td>0</td>\n",
       "      <td>0</td>\n",
       "      <td>negative</td>\n",
       "      <td>useless</td>\n",
       "    </tr>\n",
       "    <tr>\n",
       "      <th>2</th>\n",
       "      <td>4</td>\n",
       "      <td>\"Delight\" says it all</td>\n",
       "      <td>1</td>\n",
       "      <td>1</td>\n",
       "      <td>positive</td>\n",
       "      <td>useful</td>\n",
       "    </tr>\n",
       "    <tr>\n",
       "      <th>3</th>\n",
       "      <td>2</td>\n",
       "      <td>Cough Medicine</td>\n",
       "      <td>3</td>\n",
       "      <td>3</td>\n",
       "      <td>negative</td>\n",
       "      <td>useful</td>\n",
       "    </tr>\n",
       "    <tr>\n",
       "      <th>4</th>\n",
       "      <td>5</td>\n",
       "      <td>Great taffy</td>\n",
       "      <td>0</td>\n",
       "      <td>0</td>\n",
       "      <td>positive</td>\n",
       "      <td>useless</td>\n",
       "    </tr>\n",
       "    <tr>\n",
       "      <th>5</th>\n",
       "      <td>4</td>\n",
       "      <td>Nice Taffy</td>\n",
       "      <td>0</td>\n",
       "      <td>0</td>\n",
       "      <td>positive</td>\n",
       "      <td>useless</td>\n",
       "    </tr>\n",
       "    <tr>\n",
       "      <th>6</th>\n",
       "      <td>5</td>\n",
       "      <td>Great!  Just as good as the expensive brands!</td>\n",
       "      <td>0</td>\n",
       "      <td>0</td>\n",
       "      <td>positive</td>\n",
       "      <td>useless</td>\n",
       "    </tr>\n",
       "    <tr>\n",
       "      <th>7</th>\n",
       "      <td>5</td>\n",
       "      <td>Wonderful, tasty taffy</td>\n",
       "      <td>0</td>\n",
       "      <td>0</td>\n",
       "      <td>positive</td>\n",
       "      <td>useless</td>\n",
       "    </tr>\n",
       "    <tr>\n",
       "      <th>8</th>\n",
       "      <td>5</td>\n",
       "      <td>Yay Barley</td>\n",
       "      <td>1</td>\n",
       "      <td>1</td>\n",
       "      <td>positive</td>\n",
       "      <td>useful</td>\n",
       "    </tr>\n",
       "    <tr>\n",
       "      <th>9</th>\n",
       "      <td>5</td>\n",
       "      <td>Healthy Dog Food</td>\n",
       "      <td>0</td>\n",
       "      <td>0</td>\n",
       "      <td>positive</td>\n",
       "      <td>useless</td>\n",
       "    </tr>\n",
       "  </tbody>\n",
       "</table>\n",
       "</div>"
      ],
      "text/plain": [
       "   Score                                        Summary  Helpfulvote  \\\n",
       "0      5                          Good Quality Dog Food            1   \n",
       "1      1                              Not as Advertised            0   \n",
       "2      4                          \"Delight\" says it all            1   \n",
       "3      2                                 Cough Medicine            3   \n",
       "4      5                                    Great taffy            0   \n",
       "5      4                                     Nice Taffy            0   \n",
       "6      5  Great!  Just as good as the expensive brands!            0   \n",
       "7      5                         Wonderful, tasty taffy            0   \n",
       "8      5                                     Yay Barley            1   \n",
       "9      5                               Healthy Dog Food            0   \n",
       "\n",
       "   Totalvote Sentiment Usefulness  \n",
       "0          1  positive     useful  \n",
       "1          0  negative    useless  \n",
       "2          1  positive     useful  \n",
       "3          3  negative     useful  \n",
       "4          0  positive    useless  \n",
       "5          0  positive    useless  \n",
       "6          0  positive    useless  \n",
       "7          0  positive    useless  \n",
       "8          1  positive     useful  \n",
       "9          0  positive    useless  "
      ]
     },
     "execution_count": 22,
     "metadata": {},
     "output_type": "execute_result"
    }
   ],
   "source": [
    "rvwdata.head(10)"
   ]
  },
  {
   "cell_type": "markdown",
   "metadata": {},
   "source": [
    "Extracting feature from text data "
   ]
  },
  {
   "cell_type": "code",
   "execution_count": 23,
   "metadata": {},
   "outputs": [],
   "source": [
    "from sklearn.feature_extraction.text import CountVectorizer, TfidfTransformer\n",
    "\n",
    "import re\n",
    "import string\n",
    "import nltk"
   ]
  },
  {
   "cell_type": "code",
   "execution_count": 24,
   "metadata": {},
   "outputs": [],
   "source": [
    "cleanup_re = re.compile('[^a-z]+')\n",
    "def cleanup(sentence):\n",
    "    sentence = sentence.lower()\n",
    "    sentence = cleanup_re.sub(' ', sentence).strip()\n",
    "    return sentence"
   ]
  },
  {
   "cell_type": "code",
   "execution_count": 25,
   "metadata": {},
   "outputs": [
    {
     "name": "stderr",
     "output_type": "stream",
     "text": [
      "C:\\Users\\Aman\\Anaconda3\\lib\\site-packages\\ipykernel_launcher.py:1: SettingWithCopyWarning: \n",
      "A value is trying to be set on a copy of a slice from a DataFrame.\n",
      "Try using .loc[row_indexer,col_indexer] = value instead\n",
      "\n",
      "See the caveats in the documentation: http://pandas.pydata.org/pandas-docs/stable/indexing.html#indexing-view-versus-copy\n",
      "  \"\"\"Entry point for launching an IPython kernel.\n"
     ]
    }
   ],
   "source": [
    "rvwdata[\"Summary_Clean\"] = rvwdata[\"Summary\"].apply(cleanup)"
   ]
  },
  {
   "cell_type": "code",
   "execution_count": 26,
   "metadata": {},
   "outputs": [],
   "source": [
    "from sklearn.model_selection import train_test_split\n",
    "from sklearn.metrics import confusion_matrix\n",
    "from sklearn import metrics\n",
    "from sklearn.metrics import roc_curve, auc"
   ]
  },
  {
   "cell_type": "code",
   "execution_count": 27,
   "metadata": {},
   "outputs": [
    {
     "name": "stdout",
     "output_type": "stream",
     "text": [
      "291336 items in training data, 72835 in test data\n"
     ]
    }
   ],
   "source": [
    "#train and test split data\n",
    "train, test = train_test_split(rvwdata, test_size=0.2)\n",
    "print(\"%d items in training data, %d in test data\" % (len(train), len(test)))"
   ]
  },
  {
   "cell_type": "code",
   "execution_count": 28,
   "metadata": {},
   "outputs": [],
   "source": [
    "from wordcloud import WordCloud,STOPWORDS\n",
    "\n",
    "# To cleanup stop words, add stop_words = STOPWORDS\n",
    "# But it seems to function better without it\n",
    "\n",
    "count_vect = CountVectorizer(min_df = 1, ngram_range = (1, 4))\n",
    "X_train_counts = count_vect.fit_transform(train[\"Summary_Clean\"])\n",
    "\n",
    "tfidf_transformer = TfidfTransformer()\n",
    "X_train_tfidf = tfidf_transformer.fit_transform(X_train_counts)\n",
    "\n",
    "X_new_counts = count_vect.transform(test[\"Summary_Clean\"])\n",
    "X_test_tfidf = tfidf_transformer.transform(X_new_counts)\n",
    "\n",
    "y_train = train[\"Sentiment\"]\n",
    "y_test = test[\"Sentiment\"]\n",
    "\n",
    "prediction = dict()"
   ]
  },
  {
   "cell_type": "code",
   "execution_count": 30,
   "metadata": {},
   "outputs": [],
   "source": [
    "import matplotlib as mpl\n",
    "stopwords = set(STOPWORDS)\n",
    "\n",
    "#mpl.rcParams['figure.figsize']=(8.0,6.0)    #(6.0,4.0)\n",
    "mpl.rcParams['font.size']=12                #10 \n",
    "mpl.rcParams['savefig.dpi']=100             #72 \n",
    "mpl.rcParams['figure.subplot.bottom']=.1 \n",
    "\n",
    "\n",
    "def show_wordcloud(data, title = None):\n",
    "    wordcloud = WordCloud(\n",
    "        background_color='white',\n",
    "        stopwords=stopwords,\n",
    "        max_words=200,\n",
    "        max_font_size=40, \n",
    "        scale=3,\n",
    "        random_state=1 # chosen at random by flipping a coin; it was heads\n",
    "    ).generate(str(data))\n",
    "    \n",
    "    fig = plt.figure(1, figsize=(8, 8))\n",
    "    plt.axis('off')\n",
    "    if title: \n",
    "        fig.suptitle(title, fontsize=20)\n",
    "        fig.subplots_adjust(top=2.3)\n",
    "\n",
    "    plt.imshow(wordcloud)\n",
    "    plt.show()"
   ]
  },
  {
   "cell_type": "code",
   "execution_count": 31,
   "metadata": {},
   "outputs": [
    {
     "data": {
      "image/png": "[encoded data removed]",
      "text/plain": [
       "<Figure size 576x576 with 1 Axes>"
      ]
     },
     "metadata": {
      "needs_background": "light"
     },
     "output_type": "display_data"
    }
   ],
   "source": [
    "show_wordcloud(rvwdata[\"Summary_Clean\"])"
   ]
  },
  {
   "cell_type": "code",
   "execution_count": 32,
   "metadata": {},
   "outputs": [
    {
     "data": {
      "image/png": "[encoded data removed]",
      "text/plain": [
       "<Figure size 576x576 with 1 Axes>"
      ]
     },
     "metadata": {
      "needs_background": "light"
     },
     "output_type": "display_data"
    }
   ],
   "source": [
    "show_wordcloud(rvwdata[rvwdata.Score == 1][\"Summary_Clean\"], title = \"Low scoring\")"
   ]
  },
  {
   "cell_type": "code",
   "execution_count": 33,
   "metadata": {},
   "outputs": [
    {
     "data": {
      "image/png": "[encoded data removed]",
      "text/plain": [
       "<Figure size 576x576 with 1 Axes>"
      ]
     },
     "metadata": {
      "needs_background": "light"
     },
     "output_type": "display_data"
    }
   ],
   "source": [
    "show_wordcloud(rvwdata[rvwdata.Score == 5][\"Summary_Clean\"], title = \"High scoring\")"
   ]
  },
  {
   "cell_type": "markdown",
   "metadata": {},
   "source": [
    "Applying multinomial naive bayes learning method"
   ]
  },
  {
   "cell_type": "code",
   "execution_count": 34,
   "metadata": {},
   "outputs": [],
   "source": [
    "from sklearn.naive_bayes import MultinomialNB\n",
    "model = MultinomialNB().fit(X_train_tfidf, y_train)\n",
    "prediction['Multinomial'] = model.predict(X_test_tfidf)"
   ]
  },
  {
   "cell_type": "markdown",
   "metadata": {},
   "source": [
    "Applying Bernoulli Naive Bayes learning method"
   ]
  },
  {
   "cell_type": "code",
   "execution_count": 35,
   "metadata": {},
   "outputs": [],
   "source": [
    "from sklearn.naive_bayes import BernoulliNB\n",
    "model = BernoulliNB().fit(X_train_tfidf, y_train)\n",
    "prediction['Bernoulli'] = model.predict(X_test_tfidf)"
   ]
  },
  {
   "cell_type": "markdown",
   "metadata": {},
   "source": [
    "Applying Logistic Regression Method"
   ]
  },
  {
   "cell_type": "code",
   "execution_count": 42,
   "metadata": {},
   "outputs": [
    {
     "name": "stderr",
     "output_type": "stream",
     "text": [
      "C:\\Users\\Aman\\Anaconda3\\lib\\site-packages\\sklearn\\svm\\base.py:931: ConvergenceWarning: Liblinear failed to converge, increase the number of iterations.\n",
      "  \"the number of iterations.\", ConvergenceWarning)\n"
     ]
    }
   ],
   "source": [
    "from sklearn.linear_model import LogisticRegression\n",
    "logreg = LogisticRegression(C=1e5)\n",
    "logreg_result = logreg.fit(X_train_tfidf, y_train)\n",
    "prediction['Logistic'] = logreg.predict(X_test_tfidf)"
   ]
  },
  {
   "cell_type": "code",
   "execution_count": 43,
   "metadata": {},
   "outputs": [
    {
     "data": {
      "text/plain": [
       "[<matplotlib.lines.Line2D at 0x3de4c6a0>]"
      ]
     },
     "execution_count": 43,
     "metadata": {},
     "output_type": "execute_result"
    },
    {
     "data": {
      "text/plain": [
       "[<matplotlib.lines.Line2D at 0x3de4cac8>]"
      ]
     },
     "execution_count": 43,
     "metadata": {},
     "output_type": "execute_result"
    },
    {
     "data": {
      "text/plain": [
       "[<matplotlib.lines.Line2D at 0x3de4ce10>]"
      ]
     },
     "execution_count": 43,
     "metadata": {},
     "output_type": "execute_result"
    },
    {
     "data": {
      "text/plain": [
       "Text(0.5, 1.0, 'Classifiers comparaison with ROC')"
      ]
     },
     "execution_count": 43,
     "metadata": {},
     "output_type": "execute_result"
    },
    {
     "data": {
      "text/plain": [
       "<matplotlib.legend.Legend at 0x3df62198>"
      ]
     },
     "execution_count": 43,
     "metadata": {},
     "output_type": "execute_result"
    },
    {
     "data": {
      "text/plain": [
       "[<matplotlib.lines.Line2D at 0x3de4cf28>]"
      ]
     },
     "execution_count": 43,
     "metadata": {},
     "output_type": "execute_result"
    },
    {
     "data": {
      "text/plain": [
       "(-0.1, 1.2)"
      ]
     },
     "execution_count": 43,
     "metadata": {},
     "output_type": "execute_result"
    },
    {
     "data": {
      "text/plain": [
       "(-0.1, 1.2)"
      ]
     },
     "execution_count": 43,
     "metadata": {},
     "output_type": "execute_result"
    },
    {
     "data": {
      "text/plain": [
       "Text(0, 0.5, 'True Positive Rate')"
      ]
     },
     "execution_count": 43,
     "metadata": {},
     "output_type": "execute_result"
    },
    {
     "data": {
      "text/plain": [
       "Text(0.5, 0, 'False Positive Rate')"
      ]
     },
     "execution_count": 43,
     "metadata": {},
     "output_type": "execute_result"
    },
    {
     "data": {
      "image/png": "[encoded data removed]",
      "text/plain": [
       "<Figure size 432x288 with 1 Axes>"
      ]
     },
     "metadata": {
      "needs_background": "light"
     },
     "output_type": "display_data"
    }
   ],
   "source": [
    "import numpy as np\n",
    "\n",
    "def formatt(x):\n",
    "    if x == 'negative':\n",
    "        return 0\n",
    "    return 1\n",
    "vfunc = np.vectorize(formatt)\n",
    "\n",
    "cmp = 0\n",
    "colors = ['b', 'g', 'y', 'm', 'k']\n",
    "for model, predicted in prediction.items():\n",
    "    false_positive_rate, true_positive_rate, thresholds = roc_curve(y_test.map(formatt), vfunc(predicted))\n",
    "    roc_auc = auc(false_positive_rate, true_positive_rate)\n",
    "    plt.plot(false_positive_rate, true_positive_rate, colors[cmp], label='%s: AUC %0.2f'% (model,roc_auc))\n",
    "    cmp += 1\n",
    "\n",
    "plt.title('Classifiers comparaison with ROC')\n",
    "plt.legend(loc='lower right')\n",
    "plt.plot([0,1],[0,1],'r--')\n",
    "plt.xlim([-0.1,1.2])\n",
    "plt.ylim([-0.1,1.2])\n",
    "plt.ylabel('True Positive Rate')\n",
    "plt.xlabel('False Positive Rate')\n",
    "plt.show()\n",
    "\n"
   ]
  },
  {
   "cell_type": "code",
   "execution_count": 44,
   "metadata": {},
   "outputs": [
    {
     "name": "stdout",
     "output_type": "stream",
     "text": [
      "              precision    recall  f1-score   support\n",
      "\n",
      "    positive       0.81      0.75      0.78     11378\n",
      "    negative       0.95      0.97      0.96     61457\n",
      "\n",
      "   micro avg       0.93      0.93      0.93     72835\n",
      "   macro avg       0.88      0.86      0.87     72835\n",
      "weighted avg       0.93      0.93      0.93     72835\n",
      "\n"
     ]
    }
   ],
   "source": [
    "print(metrics.classification_report(y_test, prediction['Logistic'], target_names = [\"positive\", \"negative\"]))"
   ]
  },
  {
   "cell_type": "code",
   "execution_count": 45,
   "metadata": {},
   "outputs": [
    {
     "data": {
      "text/plain": [
       "<Figure size 432x288 with 0 Axes>"
      ]
     },
     "execution_count": 45,
     "metadata": {},
     "output_type": "execute_result"
    },
    {
     "data": {
      "text/plain": [
       "<Figure size 432x288 with 0 Axes>"
      ]
     },
     "execution_count": 45,
     "metadata": {},
     "output_type": "execute_result"
    },
    {
     "data": {
      "image/png": "[encoded data removed]",
      "text/plain": [
       "<Figure size 432x288 with 2 Axes>"
      ]
     },
     "metadata": {
      "needs_background": "light"
     },
     "output_type": "display_data"
    },
    {
     "data": {
      "image/png": "[encoded data removed]",
      "text/plain": [
       "<Figure size 432x288 with 2 Axes>"
      ]
     },
     "metadata": {
      "needs_background": "light"
     },
     "output_type": "display_data"
    }
   ],
   "source": [
    "def plot_confusion_matrix(cm, title='Confusion matrix', cmap=plt.cm.Blues, labels=[\"positive\", \"negative\"]):\n",
    "    plt.imshow(cm, interpolation='nearest', cmap=cmap)\n",
    "    plt.title(title)\n",
    "    plt.colorbar()\n",
    "    tick_marks = np.arange(len(labels))\n",
    "    plt.xticks(tick_marks, labels, rotation=45)\n",
    "    plt.yticks(tick_marks, labels)\n",
    "    plt.tight_layout()\n",
    "    plt.ylabel('True label')\n",
    "    plt.xlabel('Predicted label')\n",
    "    \n",
    "# Compute confusion matrix\n",
    "cm = confusion_matrix(y_test, prediction['Logistic'])\n",
    "np.set_printoptions(precision=2)\n",
    "plt.figure()\n",
    "plot_confusion_matrix(cm)    \n",
    "\n",
    "cm_normalized = cm.astype('float') / cm.sum(axis=1)[:, np.newaxis]\n",
    "plt.figure()\n",
    "plot_confusion_matrix(cm_normalized, title='Normalized confusion matrix')\n",
    "plt.show()"
   ]
  },
  {
   "cell_type": "code",
   "execution_count": 46,
   "metadata": {},
   "outputs": [
    {
     "data": {
      "text/html": [
       "<div>\n",
       "<style scoped>\n",
       "    .dataframe tbody tr th:only-of-type {\n",
       "        vertical-align: middle;\n",
       "    }\n",
       "\n",
       "    .dataframe tbody tr th {\n",
       "        vertical-align: top;\n",
       "    }\n",
       "\n",
       "    .dataframe thead th {\n",
       "        text-align: right;\n",
       "    }\n",
       "</style>\n",
       "<table border=\"1\" class=\"dataframe\">\n",
       "  <thead>\n",
       "    <tr style=\"text-align: right;\">\n",
       "      <th></th>\n",
       "      <th>feature</th>\n",
       "      <th>coef</th>\n",
       "    </tr>\n",
       "  </thead>\n",
       "  <tbody>\n",
       "    <tr>\n",
       "      <th>937132</th>\n",
       "      <td>worst</td>\n",
       "      <td>-42.353859</td>\n",
       "    </tr>\n",
       "    <tr>\n",
       "      <th>409574</th>\n",
       "      <td>horrible</td>\n",
       "      <td>-32.895889</td>\n",
       "    </tr>\n",
       "    <tr>\n",
       "      <th>952914</th>\n",
       "      <td>yuck</td>\n",
       "      <td>-32.708543</td>\n",
       "    </tr>\n",
       "    <tr>\n",
       "      <th>60037</th>\n",
       "      <td>awful</td>\n",
       "      <td>-32.101648</td>\n",
       "    </tr>\n",
       "    <tr>\n",
       "      <th>795551</th>\n",
       "      <td>terrible</td>\n",
       "      <td>-31.496752</td>\n",
       "    </tr>\n",
       "    <tr>\n",
       "      <th>570100</th>\n",
       "      <td>not</td>\n",
       "      <td>-30.271937</td>\n",
       "    </tr>\n",
       "    <tr>\n",
       "      <th>552635</th>\n",
       "      <td>nasty</td>\n",
       "      <td>-26.345092</td>\n",
       "    </tr>\n",
       "    <tr>\n",
       "      <th>747869</th>\n",
       "      <td>stale</td>\n",
       "      <td>-26.155901</td>\n",
       "    </tr>\n",
       "    <tr>\n",
       "      <th>937012</th>\n",
       "      <td>worse</td>\n",
       "      <td>-25.055169</td>\n",
       "    </tr>\n",
       "    <tr>\n",
       "      <th>220675</th>\n",
       "      <td>disgusting</td>\n",
       "      <td>-24.587504</td>\n",
       "    </tr>\n",
       "    <tr>\n",
       "      <th>780428</th>\n",
       "      <td>tasteless</td>\n",
       "      <td>-24.330220</td>\n",
       "    </tr>\n",
       "    <tr>\n",
       "      <th>62492</th>\n",
       "      <td>bad</td>\n",
       "      <td>-23.405891</td>\n",
       "    </tr>\n",
       "    <tr>\n",
       "      <th>54164</th>\n",
       "      <td>at best</td>\n",
       "      <td>-22.468154</td>\n",
       "    </tr>\n",
       "    <tr>\n",
       "      <th>382143</th>\n",
       "      <td>gross</td>\n",
       "      <td>-22.363991</td>\n",
       "    </tr>\n",
       "    <tr>\n",
       "      <th>503047</th>\n",
       "      <td>low quality</td>\n",
       "      <td>-22.227601</td>\n",
       "    </tr>\n",
       "    <tr>\n",
       "      <th>720790</th>\n",
       "      <td>sick</td>\n",
       "      <td>-22.011017</td>\n",
       "    </tr>\n",
       "    <tr>\n",
       "      <th>648554</th>\n",
       "      <td>poor</td>\n",
       "      <td>-21.950581</td>\n",
       "    </tr>\n",
       "    <tr>\n",
       "      <th>215958</th>\n",
       "      <td>didn</td>\n",
       "      <td>-21.877659</td>\n",
       "    </tr>\n",
       "    <tr>\n",
       "      <th>430165</th>\n",
       "      <td>instead</td>\n",
       "      <td>-20.827988</td>\n",
       "    </tr>\n",
       "    <tr>\n",
       "      <th>220163</th>\n",
       "      <td>disappointment</td>\n",
       "      <td>-20.678555</td>\n",
       "    </tr>\n",
       "    <tr>\n",
       "      <th>580341</th>\n",
       "      <td>not very good</td>\n",
       "      <td>-20.278265</td>\n",
       "    </tr>\n",
       "    <tr>\n",
       "      <th>676510</th>\n",
       "      <td>rancid</td>\n",
       "      <td>-19.806464</td>\n",
       "    </tr>\n",
       "    <tr>\n",
       "      <th>57317</th>\n",
       "      <td>avoid</td>\n",
       "      <td>-19.568260</td>\n",
       "    </tr>\n",
       "    <tr>\n",
       "      <th>565034</th>\n",
       "      <td>no flavor</td>\n",
       "      <td>-19.542920</td>\n",
       "    </tr>\n",
       "    <tr>\n",
       "      <th>649098</th>\n",
       "      <td>poorly</td>\n",
       "      <td>-19.505293</td>\n",
       "    </tr>\n",
       "    <tr>\n",
       "      <th>908809</th>\n",
       "      <td>weak</td>\n",
       "      <td>-19.269953</td>\n",
       "    </tr>\n",
       "    <tr>\n",
       "      <th>151932</th>\n",
       "      <td>changed</td>\n",
       "      <td>-18.687808</td>\n",
       "    </tr>\n",
       "    <tr>\n",
       "      <th>181378</th>\n",
       "      <td>contains</td>\n",
       "      <td>-18.452040</td>\n",
       "    </tr>\n",
       "    <tr>\n",
       "      <th>953218</th>\n",
       "      <td>yuk</td>\n",
       "      <td>-18.383522</td>\n",
       "    </tr>\n",
       "    <tr>\n",
       "      <th>474015</th>\n",
       "      <td>less than</td>\n",
       "      <td>-18.158180</td>\n",
       "    </tr>\n",
       "    <tr>\n",
       "      <th>...</th>\n",
       "      <td>...</td>\n",
       "      <td>...</td>\n",
       "    </tr>\n",
       "    <tr>\n",
       "      <th>352563</th>\n",
       "      <td>goodness</td>\n",
       "      <td>18.009744</td>\n",
       "    </tr>\n",
       "    <tr>\n",
       "      <th>795868</th>\n",
       "      <td>terrible pricing</td>\n",
       "      <td>18.192913</td>\n",
       "    </tr>\n",
       "    <tr>\n",
       "      <th>572329</th>\n",
       "      <td>not disappointed</td>\n",
       "      <td>18.209495</td>\n",
       "    </tr>\n",
       "    <tr>\n",
       "      <th>457260</th>\n",
       "      <td>just like</td>\n",
       "      <td>18.271873</td>\n",
       "    </tr>\n",
       "    <tr>\n",
       "      <th>571448</th>\n",
       "      <td>not burnt</td>\n",
       "      <td>18.337674</td>\n",
       "    </tr>\n",
       "    <tr>\n",
       "      <th>4603</th>\n",
       "      <td>addictive</td>\n",
       "      <td>18.527784</td>\n",
       "    </tr>\n",
       "    <tr>\n",
       "      <th>575959</th>\n",
       "      <td>not mushy</td>\n",
       "      <td>18.547180</td>\n",
       "    </tr>\n",
       "    <tr>\n",
       "      <th>95203</th>\n",
       "      <td>better than</td>\n",
       "      <td>18.852228</td>\n",
       "    </tr>\n",
       "    <tr>\n",
       "      <th>577425</th>\n",
       "      <td>not really weak</td>\n",
       "      <td>19.047770</td>\n",
       "    </tr>\n",
       "    <tr>\n",
       "      <th>728708</th>\n",
       "      <td>smooth</td>\n",
       "      <td>19.079315</td>\n",
       "    </tr>\n",
       "    <tr>\n",
       "      <th>580416</th>\n",
       "      <td>not very sweet</td>\n",
       "      <td>19.232221</td>\n",
       "    </tr>\n",
       "    <tr>\n",
       "      <th>277231</th>\n",
       "      <td>finally</td>\n",
       "      <td>19.323893</td>\n",
       "    </tr>\n",
       "    <tr>\n",
       "      <th>493349</th>\n",
       "      <td>love</td>\n",
       "      <td>19.779499</td>\n",
       "    </tr>\n",
       "    <tr>\n",
       "      <th>573659</th>\n",
       "      <td>not from china</td>\n",
       "      <td>19.877109</td>\n",
       "    </tr>\n",
       "    <tr>\n",
       "      <th>575298</th>\n",
       "      <td>not like cardboard</td>\n",
       "      <td>20.314098</td>\n",
       "    </tr>\n",
       "    <tr>\n",
       "      <th>270762</th>\n",
       "      <td>favorite</td>\n",
       "      <td>20.514904</td>\n",
       "    </tr>\n",
       "    <tr>\n",
       "      <th>400354</th>\n",
       "      <td>heaven</td>\n",
       "      <td>21.071608</td>\n",
       "    </tr>\n",
       "    <tr>\n",
       "      <th>579770</th>\n",
       "      <td>not too</td>\n",
       "      <td>21.233588</td>\n",
       "    </tr>\n",
       "    <tr>\n",
       "      <th>575592</th>\n",
       "      <td>not made in china</td>\n",
       "      <td>21.248582</td>\n",
       "    </tr>\n",
       "    <tr>\n",
       "      <th>17146</th>\n",
       "      <td>amazing</td>\n",
       "      <td>21.384182</td>\n",
       "    </tr>\n",
       "    <tr>\n",
       "      <th>580403</th>\n",
       "      <td>not very salty</td>\n",
       "      <td>22.791484</td>\n",
       "    </tr>\n",
       "    <tr>\n",
       "      <th>266777</th>\n",
       "      <td>fantastic</td>\n",
       "      <td>24.053378</td>\n",
       "    </tr>\n",
       "    <tr>\n",
       "      <th>57862</th>\n",
       "      <td>awesome</td>\n",
       "      <td>24.299280</td>\n",
       "    </tr>\n",
       "    <tr>\n",
       "      <th>931652</th>\n",
       "      <td>wonderful</td>\n",
       "      <td>24.537062</td>\n",
       "    </tr>\n",
       "    <tr>\n",
       "      <th>636005</th>\n",
       "      <td>perfect</td>\n",
       "      <td>24.732180</td>\n",
       "    </tr>\n",
       "    <tr>\n",
       "      <th>571308</th>\n",
       "      <td>not bitter</td>\n",
       "      <td>25.181911</td>\n",
       "    </tr>\n",
       "    <tr>\n",
       "      <th>577971</th>\n",
       "      <td>not so bad</td>\n",
       "      <td>26.697648</td>\n",
       "    </tr>\n",
       "    <tr>\n",
       "      <th>357462</th>\n",
       "      <td>great</td>\n",
       "      <td>36.349360</td>\n",
       "    </tr>\n",
       "    <tr>\n",
       "      <th>570871</th>\n",
       "      <td>not bad</td>\n",
       "      <td>37.068227</td>\n",
       "    </tr>\n",
       "    <tr>\n",
       "      <th>79293</th>\n",
       "      <td>best</td>\n",
       "      <td>42.712741</td>\n",
       "    </tr>\n",
       "  </tbody>\n",
       "</table>\n",
       "<p>958434 rows × 2 columns</p>\n",
       "</div>"
      ],
      "text/plain": [
       "                   feature       coef\n",
       "937132               worst -42.353859\n",
       "409574            horrible -32.895889\n",
       "952914                yuck -32.708543\n",
       "60037                awful -32.101648\n",
       "795551            terrible -31.496752\n",
       "570100                 not -30.271937\n",
       "552635               nasty -26.345092\n",
       "747869               stale -26.155901\n",
       "937012               worse -25.055169\n",
       "220675          disgusting -24.587504\n",
       "780428           tasteless -24.330220\n",
       "62492                  bad -23.405891\n",
       "54164              at best -22.468154\n",
       "382143               gross -22.363991\n",
       "503047         low quality -22.227601\n",
       "720790                sick -22.011017\n",
       "648554                poor -21.950581\n",
       "215958                didn -21.877659\n",
       "430165             instead -20.827988\n",
       "220163      disappointment -20.678555\n",
       "580341       not very good -20.278265\n",
       "676510              rancid -19.806464\n",
       "57317                avoid -19.568260\n",
       "565034           no flavor -19.542920\n",
       "649098              poorly -19.505293\n",
       "908809                weak -19.269953\n",
       "151932             changed -18.687808\n",
       "181378            contains -18.452040\n",
       "953218                 yuk -18.383522\n",
       "474015           less than -18.158180\n",
       "...                    ...        ...\n",
       "352563            goodness  18.009744\n",
       "795868    terrible pricing  18.192913\n",
       "572329    not disappointed  18.209495\n",
       "457260           just like  18.271873\n",
       "571448           not burnt  18.337674\n",
       "4603             addictive  18.527784\n",
       "575959           not mushy  18.547180\n",
       "95203          better than  18.852228\n",
       "577425     not really weak  19.047770\n",
       "728708              smooth  19.079315\n",
       "580416      not very sweet  19.232221\n",
       "277231             finally  19.323893\n",
       "493349                love  19.779499\n",
       "573659      not from china  19.877109\n",
       "575298  not like cardboard  20.314098\n",
       "270762            favorite  20.514904\n",
       "400354              heaven  21.071608\n",
       "579770             not too  21.233588\n",
       "575592   not made in china  21.248582\n",
       "17146              amazing  21.384182\n",
       "580403      not very salty  22.791484\n",
       "266777           fantastic  24.053378\n",
       "57862              awesome  24.299280\n",
       "931652           wonderful  24.537062\n",
       "636005             perfect  24.732180\n",
       "571308          not bitter  25.181911\n",
       "577971          not so bad  26.697648\n",
       "357462               great  36.349360\n",
       "570871             not bad  37.068227\n",
       "79293                 best  42.712741\n",
       "\n",
       "[958434 rows x 2 columns]"
      ]
     },
     "execution_count": 46,
     "metadata": {},
     "output_type": "execute_result"
    }
   ],
   "source": [
    "words = count_vect.get_feature_names()\n",
    "feature_coefs = pd.DataFrame(\n",
    "    data = list(zip(words, logreg_result.coef_[0])),\n",
    "    columns = ['feature', 'coef'])\n",
    "\n",
    "feature_coefs.sort_values(by='coef')"
   ]
  },
  {
   "cell_type": "code",
   "execution_count": 47,
   "metadata": {},
   "outputs": [
    {
     "name": "stdout",
     "output_type": "stream",
     "text": [
      "Sample estimated as POSITIVE: negative prob 0.001020, positive prob 0.998980\n",
      "Sample estimated as NEGATIVE: negative prob 1.000000, positive prob 0.000000\n",
      "Sample estimated as POSITIVE: negative prob 0.458133, positive prob 0.541867\n"
     ]
    }
   ],
   "source": [
    "def test_sample(model, sample):\n",
    "    sample_counts = count_vect.transform([sample])\n",
    "    sample_tfidf = tfidf_transformer.transform(sample_counts)\n",
    "    result = model.predict(sample_tfidf)[0]\n",
    "    prob = model.predict_proba(sample_tfidf)[0]\n",
    "    print(\"Sample estimated as %s: negative prob %f, positive prob %f\" % (result.upper(), prob[0], prob[1]))\n",
    "\n",
    "test_sample(logreg, \"The food was delicious, it smelled great and the taste was awesome\")\n",
    "test_sample(logreg, \"The whole experience was horrible. The smell was so bad that it literally made me sick.\")\n",
    "test_sample(logreg, \"The food was ok, I guess. The smell wasn't very good, but the taste was ok.\")"
   ]
  },
  {
   "cell_type": "code",
   "execution_count": null,
   "metadata": {},
   "outputs": [],
   "source": []
  }
 ],
 "metadata": {
  "kernelspec": {
   "display_name": "Python 3",
   "language": "python",
   "name": "python3"
  },
  "language_info": {
   "codemirror_mode": {
    "name": "ipython",
    "version": 3
   },
   "file_extension": ".py",
   "mimetype": "text/x-python",
   "name": "python",
   "nbconvert_exporter": "python",
   "pygments_lexer": "ipython3",
   "version": "3.7.3"
  }
 },
 "nbformat": 4,
 "nbformat_minor": 2
}
